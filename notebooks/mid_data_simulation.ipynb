{
 "cells": [
  {
   "cell_type": "markdown",
   "metadata": {},
   "source": [
    "# CASA SIMULATION"
   ]
  },
  {
   "cell_type": "markdown",
   "metadata": {},
   "source": [
    "The simulation follows the guidelines and examples provided in the CASA documentation. For more detailed information on the simulation process, you can refer to the: https://casadocs.readthedocs.io/en/v6.2.0/examples/community/simulation_script_demo.html \n",
    "\n",
    "In this notebook, we will simulate a 4-h observation in SKA Mid Band 2.\n"
   ]
  },
  {
   "cell_type": "markdown",
   "metadata": {},
   "source": [
    "## Prerequisites\n",
    "\n",
    "### Installing casa\n",
    "\n",
    "1. Visit https://casa.nrao.edu/casa_obtaining.shtml\n",
    "1. Install casa wherever you want (prefer local install for the specific user)\n",
    "\n",
    "### Installing additional dependencies\n",
    "\n",
    "1. Once casa is installed, run it using `casa` which will open casa specific ipython shell\n",
    "1. Run following command to install additional dependencies:\n",
    "\n",
    "    ```\n",
    "    %pip install ipykernel astropy\n",
    "    ```"
   ]
  },
  {
   "cell_type": "markdown",
   "metadata": {},
   "source": [
    "## Imports"
   ]
  },
  {
   "cell_type": "code",
   "execution_count": 7,
   "metadata": {},
   "outputs": [],
   "source": [
    "import os\n",
    "import shutil\n",
    "import time\n",
    "from typing import List\n",
    "\n",
    "import numpy as np\n",
    "from astropy import units as au"
   ]
  },
  {
   "cell_type": "code",
   "execution_count": null,
   "metadata": {},
   "outputs": [],
   "source": [
    "from casatasks.private import simutil\n",
    "\n",
    "mysu = simutil.simutil()\n",
    "tstart = time.time()"
   ]
  },
  {
   "cell_type": "markdown",
   "metadata": {},
   "source": [
    "## Utilities"
   ]
  },
  {
   "cell_type": "code",
   "execution_count": 9,
   "metadata": {},
   "outputs": [],
   "source": [
    "def remove_if_exists(path: str):\n",
    "    \"\"\"\n",
    "    If path exists, either file or directory, then delete it\n",
    "    \"\"\"\n",
    "    if os.path.exists(path):\n",
    "        if os.path.isdir(path):\n",
    "            shutil.rmtree(path)\n",
    "        else:\n",
    "            os.remove(path)"
   ]
  },
  {
   "cell_type": "code",
   "execution_count": 10,
   "metadata": {},
   "outputs": [],
   "source": [
    "def remove_whitespace_in_astropy_unit(value: au.Unit) -> str:\n",
    "    \"\"\"\n",
    "    Removes whitespace from the string format of astropy unit.\n",
    "    Input must be a valid astropy unit object.\n",
    "\n",
    "    Example: 950 MHz -> \"950Mhz\"\n",
    "    \"\"\"\n",
    "    return \"\".join(str(value).split())"
   ]
  },
  {
   "cell_type": "markdown",
   "metadata": {},
   "source": [
    "## Simulate visibilities from the sky model"
   ]
  },
  {
   "cell_type": "code",
   "execution_count": 11,
   "metadata": {},
   "outputs": [],
   "source": [
    "# ************* Simulate the observation *********************#\n",
    "\n",
    "\n",
    "def simulate(\n",
    "    msname: str,\n",
    "    ant_config: str,\n",
    "    clname: str,\n",
    "    imagename: str,\n",
    "    itime: float,\n",
    "    starttime: float,\n",
    "    endtime: float,\n",
    "    odate: List[str],\n",
    "    freq: str,\n",
    "    deltafreq: str,\n",
    "    freqresolution: str,\n",
    "    nchannels: int,\n",
    "    usemod: str,\n",
    "):\n",
    "    \"\"\"\n",
    "    Construct an empty Measurement Set that has the desired observation setup.\n",
    "\n",
    "    Parameters\n",
    "    ----------\n",
    "    msname: str\n",
    "    ant_config: str\n",
    "    clname: str\n",
    "    imagename: str\n",
    "    itime: float\n",
    "        Integration Time in seconds\n",
    "    starttime: float\n",
    "        Start Time in seconds\n",
    "    endtime: float\n",
    "        End Time in seconds\n",
    "    odate: List[str]\n",
    "        List containing observation dates.\n",
    "        Each data is a standard date-time formatted string.\n",
    "    freq: str\n",
    "        Starting frequency, represented in string Quantity. e.g. '950Mhz'\n",
    "    deltafreq: str\n",
    "        Increment in frequency\n",
    "    freqresolution: str\n",
    "        Frequency resolution\n",
    "    nchannels: int\n",
    "    usemod: str\n",
    "    \"\"\"\n",
    "\n",
    "    # Delete the directory\n",
    "    remove_if_exists(msname)\n",
    "\n",
    "    dir0 = me.direction(\"J2000\", \"15h00m00\", \"-30d00m00\")\n",
    "    sname = \"SKA_MID_SOURCE\"\n",
    "    sm.open(msname)  # Open the simulator\n",
    "\n",
    "    # intialize the ms file; has to be done before setting array configs, spw, etc; i.e. this is the first step of the simulation\n",
    "    # beam  =  vp.setpbairy(telescope = 'PAPER_SA', dishdiam = '14.0m',blockagediam = '1.0m', dopb = True)\n",
    "    (x, y, z, d, an, an2, telname, obspos) = mysu.readantenna(ant_config)\n",
    "    # Set the antenna configuration\n",
    "    sm.setconfig(\n",
    "        telescopename=telname,\n",
    "        x=x,\n",
    "        y=y,\n",
    "        z=z,\n",
    "        dishdiameter=d,\n",
    "        mount=[\"alt-az\"],\n",
    "        antname=an,\n",
    "        coordsystem=\"global\",\n",
    "        referencelocation=obspos,\n",
    "    )\n",
    "\n",
    "    # Set the spectral window and polarization (one data-description-id).\n",
    "    # Call multiple times with different names for multiple SPWs or pol setups.\n",
    "\n",
    "    sm.setspwindow(\n",
    "        spwname=\"BAND 2\",\n",
    "        freq=freq,\n",
    "        deltafreq=deltafreq,\n",
    "        freqresolution=freqresolution,\n",
    "        nchannels=nchannels,\n",
    "        stokes=\"RR LL\",\n",
    "    )\n",
    "    # Set the polarization mode (this goes to the FEED subtable)\n",
    "    sm.setfeed(mode=\"perfect R L\", pol=[\"\"])\n",
    "    sm.setfield(sourcename=sname, sourcedirection=dir0)\n",
    "    # Leave autocorrelations out of the MS.\n",
    "    sm.setauto(autocorrwt=0.0)\n",
    "\n",
    "    # Set the integration time, and the convention to use for timerange specification\n",
    "    # Note : It is convenient to pick the hourangle mode as all times specified in sm.observe()\n",
    "    # will be relative to when the source transits.\n",
    "    # Construct MS metadata and UVW values for one scan and ddid\n",
    "    # Call multiple times for multiple scans.\n",
    "    # Call this with different sourcenames (fields) and spw/pol settings as defined above.\n",
    "    # Timesteps will be defined in intervals of 'integrationtime', between starttime and stoptime.\n",
    "    obsdate = odate\n",
    "    refdate = obsdate[0]\n",
    "    reftime = me.epoch(\"UTC\", refdate)\n",
    "    netime = (\n",
    "        (\n",
    "            me.riseset(dir0)[\"set\"][\"last\"][\"m0\"][\"value\"]\n",
    "            - me.riseset(dir0)[\"rise\"][\"last\"][\"m0\"][\"value\"]\n",
    "        )\n",
    "        * 8\n",
    "        * 3600\n",
    "    )  # seconds\n",
    "    itime = qa.quantity(itime, \"s\")\n",
    "\n",
    "    if endtime > netime:\n",
    "        # TODO: Re-validate the logic\n",
    "        # This will throw error as \"etime\" is not defined\n",
    "        timeloop = int(endtime / netime)\n",
    "        starttime = -netime / 2\n",
    "        etime = +netime / 2\n",
    "        timeloop = int(etime / netime)\n",
    "        for i in range(0, timeloop):\n",
    "            reftime[\"m0\"][\"value\"] = reftime[\"m0\"][\"value\"] + 1\n",
    "            sm.settimes(\n",
    "                integrationtime=itime,\n",
    "                usehourangle=False,\n",
    "                referencetime=reftime,\n",
    "            )\n",
    "            sm.observe(\n",
    "                sourcename=sname,\n",
    "                spwname=\"BAND 2\",\n",
    "                starttime=qa.quantity(starttime, \"s\"),\n",
    "                stoptime=qa.quantity(etime, \"s\"),\n",
    "            )\n",
    "            nfld = 1\n",
    "            sm.setdata(spwid=[0], fieldid=range(0, nfld))\n",
    "\n",
    "    else:\n",
    "        sm.settimes(\n",
    "            integrationtime=itime, usehourangle=False, referencetime=reftime\n",
    "        )\n",
    "        sm.observe(\n",
    "            sourcename=sname,\n",
    "            spwname=\"BAND 2\",\n",
    "            starttime=qa.quantity(starttime, \"s\"),\n",
    "            stoptime=qa.quantity(endtime, \"s\"),\n",
    "        )\n",
    "\n",
    "    if usemod == \"im\":\n",
    "        # Predict from a model image\n",
    "        sm.predict(imagename=imagename, incremental=True)\n",
    "    elif usemod == \"com\":\n",
    "        # Predict from a model image\n",
    "        sm.predict(complist=clname, incremental=True)\n",
    "    elif usemod == \"both\":\n",
    "        # Predict from a model image and component list\n",
    "        sm.predict(complist=clname, imagename=imagename, incremental=True)\n",
    "    else:\n",
    "        sm.predict(complist=clname, incremental=True)\n",
    "    sm.close()  # Close the tool\n",
    "    sm.done()\n",
    "    # Unflag everything (unless you care about elevation/shadow flags)\n",
    "    flagdata(vis=msname, mode=\"unflag\")"
   ]
  },
  {
   "cell_type": "markdown",
   "metadata": {},
   "source": [
    "## Simulate Sky model"
   ]
  },
  {
   "cell_type": "markdown",
   "metadata": {},
   "source": [
    "\n",
    "The method defined below sinulates a point source with a 1.5 Jy flux density at .95 GHz and with a spectral index of 0.0. See CASA documentation to specify more complex sky models."
   ]
  },
  {
   "cell_type": "markdown",
   "metadata": {},
   "source": [
    "### Make an empty CASA image"
   ]
  },
  {
   "cell_type": "code",
   "execution_count": 6,
   "metadata": {},
   "outputs": [],
   "source": [
    "def makeEmptyImage(imname_true, nchan, ref_freq, freq_incr, cell_size):\n",
    "    # Define the center of the image\n",
    "    radir = \"15h00m00s\"\n",
    "    decdir = \"-30d00m00s\"\n",
    "\n",
    "    # Make the image from a shape\n",
    "    ia.close()\n",
    "    ia.fromshape(imname_true, [256, 256, 1, nchan], overwrite=True)\n",
    "\n",
    "    # Make a coordinate system\n",
    "    cs = ia.coordsys()\n",
    "    cs.setunits([\"rad\", \"rad\", \"\", \"Hz\"])\n",
    "    cell_rad = qa.convert(qa.quantity(cell_size), \"rad\")[\"value\"]\n",
    "    cs.setincrement([-cell_rad, cell_rad], \"direction\")\n",
    "    cs.setreferencevalue(\n",
    "        [\n",
    "            qa.convert(radir, \"rad\")[\"value\"],\n",
    "            qa.convert(decdir, \"rad\")[\"value\"],\n",
    "        ],\n",
    "        type=\"direction\",\n",
    "    )\n",
    "    cs.setreferencevalue(ref_freq, \"spectral\")\n",
    "    cs.setreferencepixel([0], \"spectral\")\n",
    "    cs.setincrement(freq_incr, \"spectral\")\n",
    "\n",
    "    # Set the coordinate system in the image\n",
    "    ia.setcoordsys(cs.torecord())\n",
    "    # ia.setrestoringbeam(major='18arcsec', minor='18arcsec', pa='0deg')\n",
    "    ia.setbrightnessunit(\"Jy/pixel\")\n",
    "    ia.set(0.0)\n",
    "    ia.close()"
   ]
  },
  {
   "cell_type": "markdown",
   "metadata": {},
   "source": [
    "### Make a component list and evaluate it onto a CASA image"
   ]
  },
  {
   "cell_type": "code",
   "execution_count": 4,
   "metadata": {},
   "outputs": [],
   "source": [
    "def makeCompList(clname_true):\n",
    "\n",
    "    # Make sure the cl doesn't already exist. The tool will complain otherwise.\n",
    "    remove_if_exists(clname_true)\n",
    "    cl.done()\n",
    "\n",
    "    # Add sources, one at a time.\n",
    "    # Call multiple times to add multiple sources. ( Change the 'dir', obviously )\n",
    "\n",
    "    # cl.addcomponent(dir='J2000 15h00m00s -30d00m00s',flux=4.0,fluxunit='Jy', freq='150MHz', shape='gaussian', majoraxis=\"20arcsec\", minoraxis='20arcsec')\n",
    "\n",
    "    cl.addcomponent(\n",
    "        dir=\"J2000 15h00m00s -30d00m00s\",\n",
    "        # For a gaussian, this is the integrated area.\n",
    "        flux=1.50,\n",
    "        fluxunit=\"Jy\",\n",
    "        freq=\"0.96GHz\",\n",
    "        #                   shape='point',       ## Point source\n",
    "        shape=\"gaussian\",  # Gaussian\n",
    "        majoraxis=\"20arcsec\",\n",
    "        minoraxis=\"20arcsec\",\n",
    "        spectrumtype=\"spectral index\",\n",
    "        index=0.0,\n",
    "    )\n",
    "\n",
    "    # Print out the contents of the componentlist\n",
    "    print(\"Contents of the component list\")\n",
    "    print(cl.torecord())\n",
    "    # Save the file\n",
    "    cl.rename(filename=clname_true)\n",
    "    cl.done()"
   ]
  },
  {
   "cell_type": "code",
   "execution_count": null,
   "metadata": {},
   "outputs": [],
   "source": [
    "def evalCompList(clname, imname):\n",
    "    ##  Evaluate a component list\n",
    "    cl.open(clname)\n",
    "    ia.open(imname)\n",
    "    ia.modify(cl.torecord(), subtract=False)\n",
    "    ia.close()\n",
    "    cl.done()"
   ]
  },
  {
   "cell_type": "markdown",
   "metadata": {},
   "source": [
    "### Add spectral line"
   ]
  },
  {
   "cell_type": "code",
   "execution_count": 55,
   "metadata": {},
   "outputs": [],
   "source": [
    "def editPixels(imname, freq_coords):\n",
    "    ## Edit pixel values directly\n",
    "    ia.open(imname)\n",
    "    pix = ia.getchunk()\n",
    "    shp = ia.shape()\n",
    "    mean = freq_coords.mean()  # np.random.uniform(freq_start, freq_end)\n",
    "    std = 0.5  # np.abs(np.random.normal(0, 0.5))\n",
    "    spectral_height = (200e-3) * np.exp(\n",
    "        -1 / 2 * ((freq_coords - mean) / std) ** 2\n",
    "    )\n",
    "    pix[int(shp[0] / 2), int(shp[1] / 2), 0, :] = (\n",
    "        pix[int(shp[0] / 2), int(shp[1] / 2), 0, :] + +spectral_height\n",
    "    )\n",
    "    # Add a spectral line in channel 1\n",
    "    ia.putchunk(pix)\n",
    "    ia.close()"
   ]
  },
  {
   "cell_type": "markdown",
   "metadata": {},
   "source": [
    "##  Run the simulation"
   ]
  },
  {
   "cell_type": "markdown",
   "metadata": {},
   "source": [
    "### Setting up input parameters"
   ]
  },
  {
   "cell_type": "code",
   "execution_count": 5,
   "metadata": {},
   "outputs": [],
   "source": [
    "# ************* Inputs for the Simulation ***************#\n",
    "telescope_file = \"./ska1-mid.cfg\"\n",
    "output_dir = \"./data_configurable2\"\n",
    "\n",
    "spectral_cube = os.path.join(output_dir, \"spectral_cube\")\n",
    "cl_name = os.path.join(output_dir, \"one_point.cl\")\n",
    "msname = os.path.join(output_dir, \"sim_mid_msfile.ms\")\n",
    "\n",
    "# modify this if you want to use custom image\n",
    "casa_image = spectral_cube + \".image\"\n",
    "\n",
    "# fits image generated if generate_sky_model is True\n",
    "fits_image = spectral_cube + \".fits\"\n",
    "\n",
    "# Image params\n",
    "cell_size = 6.0 * au.arcsecond\n",
    "\n",
    "# SKA observation parameters\n",
    "freq_start = 950 * au.MHz\n",
    "freq_end = 970 * au.MHz\n",
    "chan_res = 0.100 * au.MHz\n",
    "\n",
    "# set channels\n",
    "nchan = int((freq_end - freq_start) / chan_res) + 1\n",
    "\n",
    "# qq = 1 # only point sources\n",
    "observation_date = [\"2000/01/02/05:00:00\"]  # observation date\n",
    "integration_time_sec = 120.0  # Integration time in seconds\n",
    "start_time_sec = 0.0  # start time in seconds\n",
    "end_time_sec = 14400.0  # End time in seconds"
   ]
  },
  {
   "cell_type": "markdown",
   "metadata": {},
   "source": [
    "### Using custom spectral cube"
   ]
  },
  {
   "cell_type": "code",
   "execution_count": 6,
   "metadata": {},
   "outputs": [],
   "source": [
    "# If generate_sky_model is True, the notebook will generate a casa (and fits) spectral cube\n",
    "# Based on the componenent specified in above functions\n",
    "# The generated cube is then used to generate the visibility data\n",
    "\n",
    "generate_sky_model = True\n",
    "\n",
    "# To use custom casa spectral cube as input, set generate_sky_model to False\n",
    "# Then overwrite the casa_image variable with path to your image cube\n",
    "\n",
    "# casa_image ="
   ]
  },
  {
   "cell_type": "markdown",
   "metadata": {},
   "source": [
    "### Generate sky model"
   ]
  },
  {
   "cell_type": "code",
   "execution_count": 7,
   "metadata": {},
   "outputs": [],
   "source": [
    "if not os.path.exists(output_dir):\n",
    "    os.makedirs(output_dir)"
   ]
  },
  {
   "cell_type": "code",
   "execution_count": null,
   "metadata": {},
   "outputs": [],
   "source": [
    "if generate_sky_model:\n",
    "    makeCompList(cl_name)\n",
    "    makeEmptyImage(\n",
    "        casa_image,\n",
    "        nchan,\n",
    "        remove_whitespace_in_astropy_unit(freq_start),\n",
    "        remove_whitespace_in_astropy_unit(chan_res),\n",
    "        remove_whitespace_in_astropy_unit(cell_size),\n",
    "    )\n",
    "    # Evaluate the component list onto the CASA image\n",
    "    evalCompList(cl_name, casa_image)\n",
    "\n",
    "    exportfits(imagename=casa_image, fitsimage=fits_image, overwrite=True)\n",
    "\n",
    "    freq_coords = np.linspace(freq_start, freq_end, nchan)\n",
    "    editPixels(casa_image, freq_coords.value)"
   ]
  },
  {
   "cell_type": "markdown",
   "metadata": {},
   "source": [
    "### Run simulation"
   ]
  },
  {
   "cell_type": "code",
   "execution_count": null,
   "metadata": {},
   "outputs": [],
   "source": [
    "# TODO: Are deltafreq and freqresolution same?\n",
    "# Currently we are passing channel resolution to both\n",
    "\n",
    "simulate(\n",
    "    msname=msname,\n",
    "    ant_config=telescope_file,\n",
    "    clname=None,\n",
    "    imagename=casa_image,\n",
    "    itime=integration_time_sec,\n",
    "    starttime=start_time_sec,\n",
    "    endtime=end_time_sec,\n",
    "    odate=observation_date,\n",
    "    freq=remove_whitespace_in_astropy_unit(freq_start),\n",
    "    deltafreq=remove_whitespace_in_astropy_unit(chan_res),\n",
    "    freqresolution=remove_whitespace_in_astropy_unit(chan_res),\n",
    "    nchannels=nchan,\n",
    "    usemod=\"im\",\n",
    ")  # Predict from a model image"
   ]
  }
 ],
 "metadata": {
  "kernelspec": {
   "display_name": "spec_line",
   "language": "python",
   "name": "python3"
  },
  "language_info": {
   "codemirror_mode": {
    "name": "ipython",
    "version": 3
   },
   "file_extension": ".py",
   "mimetype": "text/x-python",
   "name": "python",
   "nbconvert_exporter": "python",
   "pygments_lexer": "ipython3",
   "version": "undefined.undefined.undefined"
  }
 },
 "nbformat": 4,
 "nbformat_minor": 2
}
