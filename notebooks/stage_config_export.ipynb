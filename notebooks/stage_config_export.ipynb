{
 "cells": [
  {
   "cell_type": "markdown",
   "metadata": {},
   "source": [
    "## Prerequisites"
   ]
  },
  {
   "cell_type": "code",
   "execution_count": null,
   "metadata": {},
   "outputs": [],
   "source": [
    "# %pip install tabulate"
   ]
  },
  {
   "cell_type": "markdown",
   "metadata": {},
   "source": [
    "## Extract configs of all stages as list of Dataframes"
   ]
  },
  {
   "cell_type": "code",
   "execution_count": null,
   "metadata": {},
   "outputs": [],
   "source": [
    "import pandas as pd\n",
    "from functools import reduce\n",
    "from ska_sdp_spectral_line_imaging import pipeline\n",
    "from ska_sdp_piper.piper.configurations.nested_config import NestedConfigParam\n",
    "\n",
    "# def process_config_param(prefix, config_param):\n",
    "#     if config_param._type is NestedConfigParam:\n",
    "#         output = []\n",
    "#         for name, inner_config in config_param._config_params.items():\n",
    "#             output.extend(process_config_param(f\"{prefix}.{name}\", inner_config))\n",
    "#         return output\n",
    "\n",
    "#     return [{\"param\": prefix, **config_param.__dict__}]\n",
    "\n",
    "def process_config_param_reduced(prefix, config_param):\n",
    "    if config_param._type is NestedConfigParam:\n",
    "        return reduce(lambda acc, param : [*acc, *process_config_param_reduced(f\"{prefix}.{param[0]}\", param[1])], config_param._config_params.items(), [])\n",
    "\n",
    "    return [{\"param\": prefix, **config_param.__dict__}]\n",
    "\n",
    "\n",
    "dfs = {}\n",
    "\n",
    "for stage in pipeline.spectral_line_imaging_pipeline._stages:\n",
    "    df = []\n",
    "    for name, config_param in stage._Stage__config._config_params.items():\n",
    "        df.extend(process_config_param_reduced(name, config_param))\n",
    "    df = pd.DataFrame(df).fillna(\"None\")\n",
    "    if df.empty:\n",
    "        continue\n",
    "    df = df.rename(columns={'_type': 'type'})\n",
    "    df = df.rename(columns={'_ConfigParam__value': 'default'})\n",
    "    df = df.rename(columns={'allowed_values': 'allowed values'})\n",
    "    df.columns = df.columns.str.capitalize()\n",
    "    df['Type'] = df['Type'].apply(lambda x: x.__name__)\n",
    "    df['Allowed values'] = df['Allowed values'].apply(lambda x: \"\" if x == \"None\" else x)\n",
    "    dfs[stage.name]=df"
   ]
  },
  {
   "cell_type": "markdown",
   "metadata": {},
   "source": [
    "### For testing"
   ]
  },
  {
   "cell_type": "code",
   "execution_count": null,
   "metadata": {},
   "outputs": [],
   "source": [
    "def df_to_org_table(df):\n",
    "    return df.to_markdown(index=False, tablefmt='grid', colalign=['left']*len(df.columns), maxcolwidths=[None, None, 40, 80])"
   ]
  },
  {
   "cell_type": "code",
   "execution_count": null,
   "metadata": {},
   "outputs": [],
   "source": [
    "df = dfs[\"imaging\"]\n",
    "print(df_to_org_table(df))"
   ]
  },
  {
   "cell_type": "markdown",
   "metadata": {},
   "source": [
    "## Getting the docstring"
   ]
  },
  {
   "cell_type": "code",
   "execution_count": null,
   "metadata": {},
   "outputs": [],
   "source": [
    "for stage in pipeline.spectral_line_imaging_pipeline._stages:\n",
    "    doc = stage.__doc__\n",
    "    print(stage.name)\n",
    "    break\n"
   ]
  },
  {
   "cell_type": "code",
   "execution_count": null,
   "metadata": {},
   "outputs": [],
   "source": [
    "# Assuming each stage docstring contains \"Parameters\"\n",
    "doc.split(sep=\"Parameters\")[0]"
   ]
  },
  {
   "cell_type": "markdown",
   "metadata": {},
   "source": [
    "## Generate the RST file"
   ]
  },
  {
   "cell_type": "code",
   "execution_count": null,
   "metadata": {},
   "outputs": [],
   "source": [
    "header = \"\"\"Stages and configurations\n",
    "#########################\n",
    "\n",
    ".. This page is generated using docs/generate_config.py\n",
    "\n",
    "The descriptions of each stage are copied from the docstrings of stages.\n",
    "Refer to the `API page for stages <api/ska_sdp_spectral_line_imaging.stages.html>`_\n",
    "\n",
    "Each stage has parameters, which are defined in the YAML config file passed to the pipeline.\n",
    "\"\"\"\n",
    "\n",
    "table_config = \"\"\"\n",
    "Parameters\n",
    "==========\n",
    "\n",
    "..  table::\n",
    "    :width: 100%\n",
    "    :widths: 15, 10, 10, 45, 10, 10\n",
    "\"\"\"\n",
    "\n",
    "indent = \"    \""
   ]
  },
  {
   "cell_type": "code",
   "execution_count": null,
   "metadata": {},
   "outputs": [],
   "source": [
    "def generate_stage_config(dfs, stage_config_path):\n",
    "    with open(stage_config_path, \"w\") as f:\n",
    "        # Write the header first\n",
    "        f.write(header)\n",
    "        f.write(\"\\n\\n\")\n",
    "\n",
    "        for stage in pipeline.spectral_line_imaging_pipeline._stages:\n",
    "            name = stage.name\n",
    "            df = dfs[name]\n",
    "            f.write(name)\n",
    "            f.write(\"\\n\")\n",
    "            f.write(\"*\" * len(name))\n",
    "            f.write(\"\\n\")\n",
    "            doc = stage.__doc__.split(sep=\"Parameters\")[0].rstrip()\n",
    "            f.write(doc)\n",
    "            f.write(\"\\n\")\n",
    "            f.write(table_config)\n",
    "            f.write(\"\\n\")\n",
    "            # Convert DataFrame to markdown string and write it to file\n",
    "            markdown = df.to_markdown(index=False, tablefmt='grid', colalign=['left']*len(df.columns), maxcolwidths=[None, None, 40, 80])\n",
    "            indented_markdown = \"\\n\".join(indent + line for line in markdown.splitlines())\n",
    "\n",
    "            f.write(indented_markdown)\n",
    "            f.write(\"\\n\\n\\n\")  # Add some space between tables"
   ]
  },
  {
   "cell_type": "code",
   "execution_count": null,
   "metadata": {},
   "outputs": [],
   "source": [
    "generate_stage_config(dfs, \"../docs/src/test.rst\")"
   ]
  }
 ],
 "metadata": {
  "kernelspec": {
   "display_name": "spec_line",
   "language": "python",
   "name": "python3"
  },
  "language_info": {
   "codemirror_mode": {
    "name": "ipython",
    "version": 3
   },
   "file_extension": ".py",
   "mimetype": "text/x-python",
   "name": "python",
   "nbconvert_exporter": "python",
   "pygments_lexer": "ipython3",
   "version": "3.10.15"
  }
 },
 "nbformat": 4,
 "nbformat_minor": 2
}
