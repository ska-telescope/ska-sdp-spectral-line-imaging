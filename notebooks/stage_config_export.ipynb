{
 "cells": [
  {
   "cell_type": "markdown",
   "metadata": {},
   "source": [
    "## Prerequisites"
   ]
  },
  {
   "cell_type": "code",
   "execution_count": 1,
   "metadata": {},
   "outputs": [],
   "source": [
    "# %pip install tabulate"
   ]
  },
  {
   "cell_type": "markdown",
   "metadata": {},
   "source": [
    "## Extract configs of all stages as list of Dataframes"
   ]
  },
  {
   "cell_type": "code",
   "execution_count": 1,
   "metadata": {},
   "outputs": [],
   "source": [
    "from ska_sdp_spectral_line_imaging import pipeline\n",
    "import pandas as pd\n",
    "\n",
    "dfs = []\n",
    "\n",
    "for x in pipeline.spectral_line_imaging_pipeline._stages:\n",
    "    df = pd.DataFrame([{\"param\": k, **v.__dict__} for k,v in x._Stage__config._Configuration__config_params.items()]).fillna(\"None\")\n",
    "    if df.empty:\n",
    "        continue\n",
    "    df = df.rename(columns={'_type': 'type'})\n",
    "    df.columns = df.columns.str.capitalize()\n",
    "    df['Type'] = df['Type'].apply(lambda x: x.__name__)\n",
    "    dfs.append(df)"
   ]
  },
  {
   "cell_type": "code",
   "execution_count": 2,
   "metadata": {},
   "outputs": [
    {
     "name": "stdout",
     "output_type": "stream",
     "text": [
      "+-----------+--------+-----------+------------------------------------------+\n",
      "| Param     | Type   | Default   | Description                              |\n",
      "+===========+========+===========+==========================================+\n",
      "| cell_size | float  | 60        | Cell size in arcsecond                   |\n",
      "+-----------+--------+-----------+------------------------------------------+\n",
      "| epsilon   | float  | 0.0001    | Floating point accuracy for ducc gridder |\n",
      "+-----------+--------+-----------+------------------------------------------+\n"
     ]
    }
   ],
   "source": [
    "df = dfs[3]\n",
    "print(df.to_markdown(index=False, tablefmt='grid', colalign=['left']*len(df.columns), maxcolwidths=[None, None, 40, 80]))"
   ]
  },
  {
   "cell_type": "markdown",
   "metadata": {},
   "source": [
    "## Handing imaging configuration"
   ]
  },
  {
   "cell_type": "markdown",
   "metadata": {},
   "source": [
    "Since imaging stage config contains dictionaries inside each ConfigParam, the key value pairs inside dictionary have to be extracted out seperately"
   ]
  },
  {
   "cell_type": "code",
   "execution_count": 3,
   "metadata": {},
   "outputs": [
    {
     "data": {
      "text/html": [
       "<div>\n",
       "<style scoped>\n",
       "    .dataframe tbody tr th:only-of-type {\n",
       "        vertical-align: middle;\n",
       "    }\n",
       "\n",
       "    .dataframe tbody tr th {\n",
       "        vertical-align: top;\n",
       "    }\n",
       "\n",
       "    .dataframe thead th {\n",
       "        text-align: right;\n",
       "    }\n",
       "</style>\n",
       "<table border=\"1\" class=\"dataframe\">\n",
       "  <thead>\n",
       "    <tr style=\"text-align: right;\">\n",
       "      <th></th>\n",
       "      <th>Param</th>\n",
       "      <th>Type</th>\n",
       "      <th>Default</th>\n",
       "      <th>Description</th>\n",
       "    </tr>\n",
       "  </thead>\n",
       "  <tbody>\n",
       "    <tr>\n",
       "      <th>0</th>\n",
       "      <td>gridding_params</td>\n",
       "      <td>dict</td>\n",
       "      <td>{'cell_size': None, 'scaling_factor': 3.0, 'ep...</td>\n",
       "      <td>Gridding parameters</td>\n",
       "    </tr>\n",
       "    <tr>\n",
       "      <th>1</th>\n",
       "      <td>deconvolution_params</td>\n",
       "      <td>dict</td>\n",
       "      <td>{'algorithm': 'multiscale', 'gain': 0.7, 'thre...</td>\n",
       "      <td>Deconvolution parameters</td>\n",
       "    </tr>\n",
       "    <tr>\n",
       "      <th>2</th>\n",
       "      <td>n_iter_major</td>\n",
       "      <td>int</td>\n",
       "      <td>0</td>\n",
       "      <td>Number of major cycle iterations</td>\n",
       "    </tr>\n",
       "    <tr>\n",
       "      <th>3</th>\n",
       "      <td>do_clean</td>\n",
       "      <td>bool</td>\n",
       "      <td>False</td>\n",
       "      <td>Whether to run clean algorithm. If False, only...</td>\n",
       "    </tr>\n",
       "    <tr>\n",
       "      <th>4</th>\n",
       "      <td>psf_image_path</td>\n",
       "      <td>str</td>\n",
       "      <td>None</td>\n",
       "      <td>Path to PSF FITS image. If None, the pipeline ...</td>\n",
       "    </tr>\n",
       "    <tr>\n",
       "      <th>5</th>\n",
       "      <td>beam_info</td>\n",
       "      <td>dict</td>\n",
       "      <td>{'bmaj': None, 'bmin': None, 'bpa': None}</td>\n",
       "      <td>Beam information. If any value is None, pipeli...</td>\n",
       "    </tr>\n",
       "  </tbody>\n",
       "</table>\n",
       "</div>"
      ],
      "text/plain": [
       "                  Param  Type  \\\n",
       "0       gridding_params  dict   \n",
       "1  deconvolution_params  dict   \n",
       "2          n_iter_major   int   \n",
       "3              do_clean  bool   \n",
       "4        psf_image_path   str   \n",
       "5             beam_info  dict   \n",
       "\n",
       "                                             Default  \\\n",
       "0  {'cell_size': None, 'scaling_factor': 3.0, 'ep...   \n",
       "1  {'algorithm': 'multiscale', 'gain': 0.7, 'thre...   \n",
       "2                                                  0   \n",
       "3                                              False   \n",
       "4                                               None   \n",
       "5          {'bmaj': None, 'bmin': None, 'bpa': None}   \n",
       "\n",
       "                                         Description  \n",
       "0                                Gridding parameters  \n",
       "1                           Deconvolution parameters  \n",
       "2                   Number of major cycle iterations  \n",
       "3  Whether to run clean algorithm. If False, only...  \n",
       "4  Path to PSF FITS image. If None, the pipeline ...  \n",
       "5  Beam information. If any value is None, pipeli...  "
      ]
     },
     "execution_count": 3,
     "metadata": {},
     "output_type": "execute_result"
    }
   ],
   "source": [
    "image_df = dfs[5]\n",
    "image_df"
   ]
  },
  {
   "cell_type": "code",
   "execution_count": 4,
   "metadata": {},
   "outputs": [],
   "source": [
    "new_rows = []\n",
    "params_to_remove = []\n",
    "\n",
    "# Iterate over the rows of the original DataFrame\n",
    "for _, row in image_df.iterrows():\n",
    "    param = row['Param']\n",
    "    default = row['Default']\n",
    "\n",
    "    if isinstance(default, dict):\n",
    "        params_to_remove.append(param)\n",
    "        # Iterate over the dictionary items in the 'Default' column\n",
    "        for key, value in default.items():\n",
    "            new_param = f\"{param}.{key}\"  # Combine the Param and key\n",
    "            if value is None:\n",
    "                value = \"None\"\n",
    "            new_rows.append({'Param': new_param, 'Type': type(value).__name__, 'Default': value, 'Description': \"\"})\n",
    "\n",
    "new_df = pd.DataFrame(new_rows)\n",
    "\n",
    "for name in params_to_remove:\n",
    "    image_df = image_df[image_df[\"Param\"] != name]\n",
    "\n",
    "\n",
    "image_df = pd.concat([image_df, new_df], ignore_index=True)"
   ]
  },
  {
   "cell_type": "code",
   "execution_count": 5,
   "metadata": {},
   "outputs": [],
   "source": [
    "# Mannually adding missing data\n",
    "\n",
    "image_df.loc[image_df['Param'] == 'gridding_params.cell_size', 'Type'] = \"float\"\n",
    "image_df.loc[image_df['Param'] == 'gridding_params.cell_size', 'Description'] = \"Cell size of the image in arcseconds\"\n",
    "image_df.loc[image_df['Param'] == 'gridding_params.scaling_factor', 'Description'] = \"Scaling factor used for esimation of cell size.\"\n",
    "image_df.loc[image_df['Param'] == 'gridding_params.epsilon', 'Description'] = \"Floating point accuracy for ducc gridder\"\n",
    "image_df.loc[image_df['Param'] == 'gridding_params.image_size', 'Description'] = \"Spatial size (nx and ny) of the spectral cube\"\n",
    "\n",
    "image_df.loc[image_df['Param'] == \"deconvolution_params.algorithm\", 'Description'] = \"Algorithm for deconvolution. If use_radler is False, then options are 'hogbom'|'msclean'. With radler, the options are 'multiscale'|'iuwt'|'more_sane'|'generic_clean'\"\n",
    "image_df.loc[image_df['Param'] == \"deconvolution_params.gain\", 'Description'] = \"Loop gain\"\n",
    "image_df.loc[image_df['Param'] == \"deconvolution_params.threshold\", 'Description'] = \"Clean threshold\"\n",
    "image_df.loc[image_df['Param'] == \"deconvolution_params.fractional_threshold\", 'Description'] = \"Fractional threshold\"\n",
    "image_df.loc[image_df['Param'] == \"deconvolution_params.scales\", 'Description'] = \"Scales in pixels for multiscale\"\n",
    "image_df.loc[image_df['Param'] == \"deconvolution_params.niter\", 'Description'] = \"Maximum number of minor cycle iterations\"\n",
    "image_df.loc[image_df['Param'] == \"deconvolution_params.use_radler\", 'Description'] = \"Whether to use radler or not\"\n",
    "\n",
    "image_df.loc[image_df['Param'] == \"beam_info.bmaj\", 'Type'] = \"float\"\n",
    "image_df.loc[image_df['Param'] == \"beam_info.bmaj\", 'Description'] = \"Beam major axis in radian\"\n",
    "image_df.loc[image_df['Param'] == \"beam_info.bmin\", 'Type'] = \"float\"\n",
    "image_df.loc[image_df['Param'] == \"beam_info.bmin\", 'Description'] = \"Beam minor axis in radian\"\n",
    "image_df.loc[image_df['Param'] == \"beam_info.bpa\", 'Type'] = \"float\"\n",
    "image_df.loc[image_df['Param'] == \"beam_info.bpa\", 'Description'] = \"Beam position angle in radian\""
   ]
  },
  {
   "cell_type": "code",
   "execution_count": 6,
   "metadata": {},
   "outputs": [
    {
     "name": "stdout",
     "output_type": "stream",
     "text": [
      "+-------------------------------------------+--------+----------------+---------------------------------------------------------------------------------+\n",
      "| Param                                     | Type   | Default        | Description                                                                     |\n",
      "+===========================================+========+================+=================================================================================+\n",
      "| n_iter_major                              | int    | 0              | Number of major cycle iterations                                                |\n",
      "+-------------------------------------------+--------+----------------+---------------------------------------------------------------------------------+\n",
      "| do_clean                                  | bool   | False          | Whether to run clean algorithm. If False, only the dirty image is generated. If |\n",
      "|                                           |        |                | True, the restored image is generated.                                          |\n",
      "+-------------------------------------------+--------+----------------+---------------------------------------------------------------------------------+\n",
      "| psf_image_path                            | str    | None           | Path to PSF FITS image. If None, the pipeline generates the psf image.          |\n",
      "+-------------------------------------------+--------+----------------+---------------------------------------------------------------------------------+\n",
      "| gridding_params.cell_size                 | float  | None           | Cell size of the image in arcseconds                                            |\n",
      "+-------------------------------------------+--------+----------------+---------------------------------------------------------------------------------+\n",
      "| gridding_params.scaling_factor            | float  | 3.0            | Scaling factor used for esimation of cell size.                                 |\n",
      "+-------------------------------------------+--------+----------------+---------------------------------------------------------------------------------+\n",
      "| gridding_params.epsilon                   | float  | 0.0001         | Floating point accuracy for ducc gridder                                        |\n",
      "+-------------------------------------------+--------+----------------+---------------------------------------------------------------------------------+\n",
      "| gridding_params.image_size                | int    | 256            | Spatial size (nx and ny) of the spectral cube                                   |\n",
      "+-------------------------------------------+--------+----------------+---------------------------------------------------------------------------------+\n",
      "| deconvolution_params.algorithm            | str    | multiscale     | Algorithm for deconvolution. If use_radler is False, then options are           |\n",
      "|                                           |        |                | 'hogbom'|'msclean'. With radler, the options are                                |\n",
      "|                                           |        |                | 'multiscale'|'iuwt'|'more_sane'|'generic_clean'                                 |\n",
      "+-------------------------------------------+--------+----------------+---------------------------------------------------------------------------------+\n",
      "| deconvolution_params.gain                 | float  | 0.7            | Loop gain                                                                       |\n",
      "+-------------------------------------------+--------+----------------+---------------------------------------------------------------------------------+\n",
      "| deconvolution_params.threshold            | float  | 0.0            | Clean threshold                                                                 |\n",
      "+-------------------------------------------+--------+----------------+---------------------------------------------------------------------------------+\n",
      "| deconvolution_params.fractional_threshold | float  | 0.01           | Fractional threshold                                                            |\n",
      "+-------------------------------------------+--------+----------------+---------------------------------------------------------------------------------+\n",
      "| deconvolution_params.scales               | list   | [0, 3, 10, 30] | Scales in pixels for multiscale                                                 |\n",
      "+-------------------------------------------+--------+----------------+---------------------------------------------------------------------------------+\n",
      "| deconvolution_params.niter                | int    | 100            | Maximum number of minor cycle iterations                                        |\n",
      "+-------------------------------------------+--------+----------------+---------------------------------------------------------------------------------+\n",
      "| deconvolution_params.use_radler           | bool   | True           | Whether to use radler or not                                                    |\n",
      "+-------------------------------------------+--------+----------------+---------------------------------------------------------------------------------+\n",
      "| beam_info.bmaj                            | float  | None           | Beam major axis in radian                                                       |\n",
      "+-------------------------------------------+--------+----------------+---------------------------------------------------------------------------------+\n",
      "| beam_info.bmin                            | float  | None           | Beam minor axis in radian                                                       |\n",
      "+-------------------------------------------+--------+----------------+---------------------------------------------------------------------------------+\n",
      "| beam_info.bpa                             | float  | None           | Beam position angle in radian                                                   |\n",
      "+-------------------------------------------+--------+----------------+---------------------------------------------------------------------------------+\n"
     ]
    }
   ],
   "source": [
    "print(image_df.to_markdown(index=False, tablefmt='grid', colalign=['left']*len(df.columns), maxcolwidths=[None, None, 40, 80]))"
   ]
  }
 ],
 "metadata": {
  "kernelspec": {
   "display_name": "spec_line",
   "language": "python",
   "name": "python3"
  },
  "language_info": {
   "codemirror_mode": {
    "name": "ipython",
    "version": 3
   },
   "file_extension": ".py",
   "mimetype": "text/x-python",
   "name": "python",
   "nbconvert_exporter": "python",
   "pygments_lexer": "ipython3",
   "version": "3.10.14"
  }
 },
 "nbformat": 4,
 "nbformat_minor": 2
}
