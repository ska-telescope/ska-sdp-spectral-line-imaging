{
 "cells": [
  {
   "cell_type": "markdown",
   "metadata": {},
   "source": [
    "## Prerequisites"
   ]
  },
  {
   "cell_type": "code",
   "execution_count": 1,
   "metadata": {},
   "outputs": [],
   "source": [
    "# %pip install tabulate"
   ]
  },
  {
   "cell_type": "markdown",
   "metadata": {},
   "source": [
    "## Extract configs of all stages as list of Dataframes"
   ]
  },
  {
   "cell_type": "code",
   "execution_count": 2,
   "metadata": {},
   "outputs": [],
   "source": [
    "from ska_sdp_spectral_line_imaging import pipeline\n",
    "import pandas as pd\n",
    "\n",
    "dfs = {}\n",
    "for x in pipeline.spectral_line_imaging_pipeline._stages:\n",
    "    df = pd.DataFrame([{\"param\": k, **v.__dict__} for k,v in x._Stage__config._Configuration__config_params.items()]).fillna(\"None\")\n",
    "    if df.empty:\n",
    "        continue\n",
    "    df = df.rename(columns={'_type': 'type'})\n",
    "    df.columns = df.columns.str.capitalize()\n",
    "    df['Type'] = df['Type'].apply(lambda x: x.__name__)\n",
    "    dfs[x.name]=df"
   ]
  },
  {
   "cell_type": "markdown",
   "metadata": {},
   "source": [
    "For testing"
   ]
  },
  {
   "cell_type": "code",
   "execution_count": 3,
   "metadata": {},
   "outputs": [],
   "source": [
    "def df_to_org_table(df):\n",
    "    return df.to_markdown(index=False, tablefmt='grid', colalign=['left']*len(df.columns), maxcolwidths=[None, None, 40, 80])"
   ]
  },
  {
   "cell_type": "code",
   "execution_count": 4,
   "metadata": {},
   "outputs": [],
   "source": [
    "# df = dfs[\"vis_stokes_conversion\"]\n",
    "# print(df_to_org_table(dfs[\"read_model\"]))"
   ]
  },
  {
   "cell_type": "markdown",
   "metadata": {},
   "source": [
    "## Handing imaging configuration"
   ]
  },
  {
   "cell_type": "markdown",
   "metadata": {},
   "source": [
    "Since imaging stage config contains dictionaries inside each ConfigParam, the key value pairs inside dictionary have to be extracted out seperately"
   ]
  },
  {
   "cell_type": "code",
   "execution_count": 5,
   "metadata": {},
   "outputs": [],
   "source": [
    "image_df = dfs[\"imaging\"]"
   ]
  },
  {
   "cell_type": "code",
   "execution_count": 6,
   "metadata": {},
   "outputs": [],
   "source": [
    "new_rows = []\n",
    "params_to_remove = []\n",
    "\n",
    "# Iterate over the rows of the original DataFrame\n",
    "for _, row in image_df.iterrows():\n",
    "    param = row['Param']\n",
    "    default = row['Default']\n",
    "\n",
    "    if isinstance(default, dict):\n",
    "        params_to_remove.append(param)\n",
    "        # Iterate over the dictionary items in the 'Default' column\n",
    "        for key, value in default.items():\n",
    "            new_param = f\"{param}.{key}\"  # Combine the Param and key\n",
    "            if value is None:\n",
    "                value = \"None\"\n",
    "            new_rows.append({'Param': new_param, 'Type': type(value).__name__, 'Default': value, 'Description': \"\"})\n",
    "\n",
    "new_df = pd.DataFrame(new_rows)\n",
    "\n",
    "for name in params_to_remove:\n",
    "    image_df = image_df[image_df[\"Param\"] != name]\n",
    "\n",
    "\n",
    "image_df = pd.concat([image_df, new_df], ignore_index=True)"
   ]
  },
  {
   "cell_type": "code",
   "execution_count": 7,
   "metadata": {},
   "outputs": [],
   "source": [
    "# Add missing data\n",
    "\n",
    "image_df.loc[image_df['Param'] == 'gridding_params.cell_size', 'Type'] = \"float\"\n",
    "image_df.loc[image_df['Param'] == 'gridding_params.cell_size', 'Description'] = \"Cell size of the image in arcseconds\"\n",
    "image_df.loc[image_df['Param'] == 'gridding_params.scaling_factor', 'Description'] = \"Scaling factor used for esimation of cell size.\"\n",
    "image_df.loc[image_df['Param'] == 'gridding_params.epsilon', 'Description'] = \"Floating point accuracy for ducc gridder\"\n",
    "image_df.loc[image_df['Param'] == 'gridding_params.image_size', 'Description'] = \"Spatial size (nx and ny) of the spectral cube\"\n",
    "\n",
    "image_df.loc[image_df['Param'] == \"deconvolution_params.algorithm\", 'Description'] = \"Algorithm for deconvolution. If use_radler is False, then options are 'hogbom'|'msclean'. With radler, the options are 'multiscale'|'iuwt'|'more_sane'|'generic_clean'\"\n",
    "image_df.loc[image_df['Param'] == \"deconvolution_params.gain\", 'Description'] = \"Loop gain\"\n",
    "image_df.loc[image_df['Param'] == \"deconvolution_params.threshold\", 'Description'] = \"Clean threshold\"\n",
    "image_df.loc[image_df['Param'] == \"deconvolution_params.fractional_threshold\", 'Description'] = \"Fractional threshold\"\n",
    "image_df.loc[image_df['Param'] == \"deconvolution_params.scales\", 'Description'] = \"Scales in pixels for multiscale\"\n",
    "image_df.loc[image_df['Param'] == \"deconvolution_params.niter\", 'Description'] = \"Maximum number of minor cycle iterations\"\n",
    "image_df.loc[image_df['Param'] == \"deconvolution_params.use_radler\", 'Description'] = \"Whether to use radler or not\"\n",
    "\n",
    "image_df.loc[image_df['Param'] == \"beam_info.bmaj\", 'Type'] = \"float\"\n",
    "image_df.loc[image_df['Param'] == \"beam_info.bmaj\", 'Description'] = \"Beam major axis in radian\"\n",
    "image_df.loc[image_df['Param'] == \"beam_info.bmin\", 'Type'] = \"float\"\n",
    "image_df.loc[image_df['Param'] == \"beam_info.bmin\", 'Description'] = \"Beam minor axis in radian\"\n",
    "image_df.loc[image_df['Param'] == \"beam_info.bpa\", 'Type'] = \"float\"\n",
    "image_df.loc[image_df['Param'] == \"beam_info.bpa\", 'Description'] = \"Beam position angle in radian\""
   ]
  },
  {
   "cell_type": "code",
   "execution_count": 8,
   "metadata": {},
   "outputs": [],
   "source": [
    "dfs[\"imaging\"] = image_df"
   ]
  },
  {
   "cell_type": "markdown",
   "metadata": {},
   "source": [
    "## Generate the RST file"
   ]
  },
  {
   "cell_type": "code",
   "execution_count": 9,
   "metadata": {},
   "outputs": [],
   "source": [
    "header = \"\"\"Stage Configs\n",
    "=============\n",
    "\n",
    ".. This file is generated using scripts/generate_config.py\n",
    "\n",
    ".. This file is referenced by \"imaging\" stage docstring by a relative reference\n",
    ".. to the generated html page.\n",
    "\"\"\"\n",
    "\n",
    "table_config = \"\"\"\n",
    "..  table::\n",
    "    :width: 100%\n",
    "    :widths: 25, 10, 20, 45\n",
    "\"\"\"\n",
    "\n",
    "indent = \"    \""
   ]
  },
  {
   "cell_type": "code",
   "execution_count": 10,
   "metadata": {},
   "outputs": [],
   "source": [
    "def generate_stage_config(dfs, stage_config_path):\n",
    "    with open(stage_config_path, \"w\") as f:\n",
    "        # Write the header first\n",
    "        f.write(header)\n",
    "        f.write(\"\\n\\n\")\n",
    "\n",
    "        for name, df in dfs.items():\n",
    "            f.write(name)\n",
    "            f.write(\"\\n\")\n",
    "            f.write(\"*\" * len(name))\n",
    "            f.write(\"\\n\")\n",
    "            f.write(table_config)\n",
    "            f.write(\"\\n\")\n",
    "            # Convert DataFrame to markdown string and write it to file\n",
    "            markdown = df.to_markdown(index=False, tablefmt='grid', colalign=['left']*len(df.columns), maxcolwidths=[None, None, 40, 80])\n",
    "            indented_markdown = \"\\n\".join(indent + line for line in markdown.splitlines())\n",
    "\n",
    "            f.write(indented_markdown)\n",
    "            f.write(\"\\n\\n\\n\")  # Add some space between tables"
   ]
  },
  {
   "cell_type": "code",
   "execution_count": 11,
   "metadata": {},
   "outputs": [],
   "source": [
    "generate_stage_config(dfs, \"docs/src/stage_config.rst\")"
   ]
  }
 ],
 "metadata": {
  "kernelspec": {
   "display_name": "spec_line",
   "language": "python",
   "name": "python3"
  },
  "language_info": {
   "codemirror_mode": {
    "name": "ipython",
    "version": 3
   },
   "file_extension": ".py",
   "mimetype": "text/x-python",
   "name": "python",
   "nbconvert_exporter": "python",
   "pygments_lexer": "ipython3",
   "version": "3.10.14"
  }
 },
 "nbformat": 4,
 "nbformat_minor": 2
}
